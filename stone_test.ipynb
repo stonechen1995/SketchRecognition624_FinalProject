{
 "cells": [
  {
   "cell_type": "code",
   "execution_count": 1,
   "metadata": {},
   "outputs": [],
   "source": [
    "from package import thin_demo\n",
    "import numpy as np\n",
    "import cv2 as cv\n",
    "import bezier\n",
    "import os\n",
    "import matplotlib.pyplot as plt\n",
    "import pandas as pd \n",
    "import cv2 as cv\n",
    "from skimage.morphology import thin, skeletonize\n",
    "import numpy as np\n",
    "import bezier\n",
    "import pandas as pd\n",
    "import matplotlib.pyplot as plt\n",
    "\n"
   ]
  },
  {
   "cell_type": "code",
   "execution_count": 8,
   "metadata": {},
   "outputs": [
    {
     "name": "stdout",
     "output_type": "stream",
     "text": [
      "{'018', '026', '042', '025', '003'}\n",
      "img001-004-000\n"
     ]
    },
    {
     "data": {
      "image/png": "[encoded data removed]",
      "text/plain": [
       "<Figure size 432x288 with 1 Axes>"
      ]
     },
     "metadata": {
      "needs_background": "light"
     },
     "output_type": "display_data"
    }
   ],
   "source": [
    "from package import thin_demo\n",
    "from package import extractContours\n",
    "from package import generateBezierCurve\n",
    "import matplotlib.pyplot as plt\n",
    "import cv2 as cv\n",
    "import random\n",
    "import os\n",
    "import shutil\n",
    "\n",
    "\n",
    "# delete and create a folder for outputs.\n",
    "try:\n",
    "    shutil.rmtree(os.path.join(os.getcwd(), \"new_images\"))\n",
    "except FileNotFoundError as error: print(\"new_images/ folder doesn't exist\")\n",
    "os.mkdir(os.path.join(os.getcwd(), \"new_images\"))\n",
    "\n",
    "selected = set()\n",
    "for i in range(5):\n",
    "   selected.add('{0:03}'.format(random.randint(1,55)))\n",
    "print(selected)\n",
    "\n",
    "path = 'archive/Img/'\n",
    "for filename in os.listdir(path):\n",
    "    name, extension = filename.split(\".\")\n",
    "    category, index = name.split(\"-\")\n",
    "    if index not in selected: continue\n",
    "    extension = \".\" + extension\n",
    "    ##############\n",
    "    name = 'img001-004-000'\n",
    "    ##############\n",
    "    print(name)\n",
    "    # img = cv.imread(path + name + extension)\n",
    "    img = cv.imread('/Users/henghong/Desktop/SSDA/SSDA/output_image_thick/img001-002-001.png')\n",
    "    contours = thin_demo(img)\n",
    "    f, ax = plt.subplots(1,1)\n",
    "    ax.imshow(contours)\n",
    "    ax.set_title('morphology.thin')\n",
    "    plt.show()\n",
    "    break"
   ]
  }
 ],
 "metadata": {
  "kernelspec": {
   "display_name": "Python 3.9.12 ('base')",
   "language": "python",
   "name": "python3"
  },
  "language_info": {
   "codemirror_mode": {
    "name": "ipython",
    "version": 3
   },
   "file_extension": ".py",
   "mimetype": "text/x-python",
   "name": "python",
   "nbconvert_exporter": "python",
   "pygments_lexer": "ipython3",
   "version": "3.9.12"
  },
  "orig_nbformat": 4,
  "vscode": {
   "interpreter": {
    "hash": "3c47b7e4abb862351f847362d5a4be1717906988c2d38db0a738787e53c2242c"
   }
  }
 },
 "nbformat": 4,
 "nbformat_minor": 2
}
