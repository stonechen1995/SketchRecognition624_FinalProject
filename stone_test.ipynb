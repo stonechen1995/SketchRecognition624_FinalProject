{
 "cells": [
  {
   "cell_type": "code",
   "execution_count": 2,
   "metadata": {},
   "outputs": [
    {
     "name": "stdout",
     "output_type": "stream",
     "text": [
      "img009-047\n",
      "[[False False False ... False False False]\n",
      " [False False False ... False False False]\n",
      " [False False False ... False False False]\n",
      " ...\n",
      " [False False False ... False False False]\n",
      " [False False False ... False False False]\n",
      " [False False False ... False False False]]\n"
     ]
    },
    {
     "ename": "TypeError",
     "evalue": "'bool' object is not subscriptable",
     "output_type": "error",
     "traceback": [
      "\u001b[0;31m---------------------------------------------------------------------------\u001b[0m",
      "\u001b[0;31mTypeError\u001b[0m                                 Traceback (most recent call last)",
      "\u001b[1;32m/Users/henghong/Desktop/TAMU/CS624 Sketch Recognition/624FinalProject/SketchRecognition624_FinalProject/stone_test.ipynb Cell 1\u001b[0m in \u001b[0;36m<cell line: 22>\u001b[0;34m()\u001b[0m\n\u001b[1;32m     <a href='vscode-notebook-cell:/Users/henghong/Desktop/TAMU/CS624%20Sketch%20Recognition/624FinalProject/SketchRecognition624_FinalProject/stone_test.ipynb#W0sZmlsZQ%3D%3D?line=31'>32</a>\u001b[0m contours \u001b[39m=\u001b[39m thin_demo(img)\n\u001b[1;32m     <a href='vscode-notebook-cell:/Users/henghong/Desktop/TAMU/CS624%20Sketch%20Recognition/624FinalProject/SketchRecognition624_FinalProject/stone_test.ipynb#W0sZmlsZQ%3D%3D?line=32'>33</a>\u001b[0m \u001b[39mprint\u001b[39m(contours)\n\u001b[0;32m---> <a href='vscode-notebook-cell:/Users/henghong/Desktop/TAMU/CS624%20Sketch%20Recognition/624FinalProject/SketchRecognition624_FinalProject/stone_test.ipynb#W0sZmlsZQ%3D%3D?line=33'>34</a>\u001b[0m nodes \u001b[39m=\u001b[39m extractContours(contours)\n\u001b[1;32m     <a href='vscode-notebook-cell:/Users/henghong/Desktop/TAMU/CS624%20Sketch%20Recognition/624FinalProject/SketchRecognition624_FinalProject/stone_test.ipynb#W0sZmlsZQ%3D%3D?line=34'>35</a>\u001b[0m \u001b[39mprint\u001b[39m(nodes)\n\u001b[1;32m     <a href='vscode-notebook-cell:/Users/henghong/Desktop/TAMU/CS624%20Sketch%20Recognition/624FinalProject/SketchRecognition624_FinalProject/stone_test.ipynb#W0sZmlsZQ%3D%3D?line=35'>36</a>\u001b[0m generateBezierCurve(name, nodes, numSegments\u001b[39m=\u001b[39m\u001b[39m8\u001b[39m, filename\u001b[39m=\u001b[39mname, degree\u001b[39m=\u001b[39m\u001b[39m3\u001b[39m, toPlot\u001b[39m=\u001b[39m\u001b[39mTrue\u001b[39;00m)\n",
      "File \u001b[0;32m~/Desktop/TAMU/CS624 Sketch Recognition/624FinalProject/SketchRecognition624_FinalProject/package.py:26\u001b[0m, in \u001b[0;36mextractContours\u001b[0;34m(contours)\u001b[0m\n\u001b[1;32m     24\u001b[0m newContours \u001b[39m=\u001b[39m []\n\u001b[1;32m     25\u001b[0m \u001b[39mfor\u001b[39;00m i \u001b[39min\u001b[39;00m contours:\n\u001b[0;32m---> 26\u001b[0m     newContours\u001b[39m.\u001b[39mappend(i[\u001b[39m0\u001b[39;49m])\n\u001b[1;32m     27\u001b[0m \u001b[39mfor\u001b[39;00m i \u001b[39min\u001b[39;00m newContours:\n\u001b[1;32m     28\u001b[0m     x\u001b[39m.\u001b[39mappend(i[\u001b[39m0\u001b[39m])\n",
      "\u001b[0;31mTypeError\u001b[0m: 'bool' object is not subscriptable"
     ]
    }
   ],
   "source": [
    "from package import thin_demo\n",
    "from package import extractContours\n",
    "from package import generateBezierCurve\n",
    "import cv2 as cv\n",
    "import numpy as np\n",
    "import random\n",
    "import os\n",
    "import shutil\n",
    "\n",
    "\n",
    "# delete and create a folder for outputs.\n",
    "try:\n",
    "    shutil.rmtree(os.path.join(os.getcwd(), \"new_images\"))\n",
    "except FileNotFoundError as error: print(\"new_images/ folder doesn't exist\")\n",
    "os.mkdir(os.path.join(os.getcwd(), \"new_images\"))\n",
    "\n",
    "selected = set()\n",
    "for i in range(5):\n",
    "   selected.add('{0:03}'.format(random.randint(1,55)))\n",
    "\n",
    "path = 'archive/Img/'\n",
    "for filename in os.listdir(path):\n",
    "    name, extension = filename.split(\".\")\n",
    "    category, index = name.split(\"-\")\n",
    "    if index not in selected: continue\n",
    "    extension = \".\" + extension\n",
    "    ##############\n",
    "    name = 'img009-047'\n",
    "    ##############\n",
    "    print(name)\n",
    "    img = cv.imread(path + name + extension)\n",
    "    contours = thin_demo(img)\n",
    "    print(contours)\n",
    "    nodes = extractContours(contours)\n",
    "    print(nodes)\n",
    "    generateBezierCurve(name, nodes, numSegments=8, filename=name, degree=3, toPlot=True)\n",
    "    break"
   ]
  },
  {
   "cell_type": "code",
   "execution_count": null,
   "metadata": {},
   "outputs": [],
   "source": []
  },
  {
   "cell_type": "code",
   "execution_count": 4,
   "metadata": {},
   "outputs": [
    {
     "name": "stdout",
     "output_type": "stream",
     "text": [
      "{'051', '008', '025', '047', '045'}\n",
      "img001-004-000\n",
      "(900, 1200, 3)\n",
      "(900, 1200)\n"
     ]
    },
    {
     "data": {
      "image/png": "[encoded data removed]",
      "text/plain": [
       "<Figure size 432x288 with 1 Axes>"
      ]
     },
     "metadata": {
      "needs_background": "light"
     },
     "output_type": "display_data"
    }
   ],
   "source": [
    "from package import thin_demo\n",
    "from package import extractContours\n",
    "from package import generateBezierCurve\n",
    "import matplotlib.pyplot as plt\n",
    "import cv2 as cv\n",
    "import random\n",
    "import os\n",
    "import shutil\n",
    "\n",
    "\n",
    "# delete and create a folder for outputs.\n",
    "try:\n",
    "    shutil.rmtree(os.path.join(os.getcwd(), \"new_images\"))\n",
    "except FileNotFoundError as error: print(\"new_images/ folder doesn't exist\")\n",
    "os.mkdir(os.path.join(os.getcwd(), \"new_images\"))\n",
    "\n",
    "selected = set()\n",
    "for i in range(5):\n",
    "   selected.add('{0:03}'.format(random.randint(1,55)))\n",
    "print(selected)\n",
    "\n",
    "path = 'archive/Img/'\n",
    "for filename in os.listdir(path):\n",
    "    name, extension = filename.split(\".\")\n",
    "    category, index = name.split(\"-\")\n",
    "    if index not in selected: continue\n",
    "    extension = \".\" + extension\n",
    "    ##############\n",
    "    name = 'img001-004-000'\n",
    "    ##############\n",
    "    print(name)\n",
    "    # img = cv.imread(path + name + extension)\n",
    "    img = cv.imread('../SSDA/output_image_thick/img001-002-001.png')\n",
    "    print(img.shape)\n",
    "    contours = thin_demo(img)\n",
    "    print(contours.shape)\n",
    "    f, ax = plt.subplots(1,1)\n",
    "    ax.imshow(contours)\n",
    "    ax.set_title('morphology.thin')\n",
    "    plt.show()\n",
    "    break"
   ]
  },
  {
   "cell_type": "code",
   "execution_count": 7,
   "metadata": {},
   "outputs": [
    {
     "data": {
      "text/plain": [
       "1"
      ]
     },
     "execution_count": 7,
     "metadata": {},
     "output_type": "execute_result"
    }
   ],
   "source": [
    "a = [1, 26, 1]\n",
    "index_maxAreaOfRegions = max(range(len(a)), key=a.__getitem__)\n",
    "index_maxAreaOfRegions"
   ]
  },
  {
   "cell_type": "code",
   "execution_count": 2,
   "metadata": {},
   "outputs": [
    {
     "name": "stdout",
     "output_type": "stream",
     "text": [
      "[[2, 2, False, False, False, False], [2, 2, False, 3, False, False], [2, 2, False, 3, False, False], [2, 2, False, 3, False, False], [2, 2, False, False, 4, 4], [2, 2, False, False, 4, 4]]\n"
     ]
    }
   ],
   "source": [
    "from package import bwlabel\n",
    "input = [[True, True, False, False, False, False] ,[True, True, False, True, False, False] ,[True, True, False, True, False, False], [True, True, False, True, False, False] ,[True, True, False, False, True, True] ,[True, True, False, False, True, True]]\n",
    "res = bwlabel(input)\n",
    "print(res)"
   ]
  },
  {
   "cell_type": "code",
   "execution_count": 27,
   "metadata": {},
   "outputs": [
    {
     "name": "stdout",
     "output_type": "stream",
     "text": [
      "img006-042\n"
     ]
    },
    {
     "data": {
      "image/png": "[encoded data removed]",
      "text/plain": [
       "<Figure size 432x288 with 1 Axes>"
      ]
     },
     "metadata": {
      "needs_background": "light"
     },
     "output_type": "display_data"
    },
    {
     "data": {
      "image/png": "[encoded data removed]",
      "text/plain": [
       "<Figure size 432x288 with 1 Axes>"
      ]
     },
     "metadata": {
      "needs_background": "light"
     },
     "output_type": "display_data"
    },
    {
     "data": {
      "image/png": "[encoded data removed]",
      "text/plain": [
       "<Figure size 432x288 with 1 Axes>"
      ]
     },
     "metadata": {
      "needs_background": "light"
     },
     "output_type": "display_data"
    }
   ],
   "source": [
    "from package import thin_demo, extractContours, generateBezierCurve, isTconnection, bwlabel, countAreaOfRegion, extractControlPoints, convertBinaryToPoints, randomDeform, smoothing_base_bezier\n",
    "import numpy as np\n",
    "import math\n",
    "import cv2 as cv\n",
    "import bezier\n",
    "import random\n",
    "import os\n",
    "import shutil\n",
    "import matplotlib.pyplot as plt\n",
    "from matplotlib.transforms import Affine2D\n",
    "\n",
    "path = 'archive/Img/'\n",
    "pathname = 'new_images/'\n",
    "for filename in os.listdir(path):\n",
    "    name, extension = filename.split(\".\")\n",
    "    category, index = name.split(\"-\")\n",
    "    extension = \".\" + extension\n",
    "    ##############\n",
    "    name = 'img006-042'\n",
    "    ##############\n",
    "    print(name)\n",
    "    img = cv.imread(path + name + extension)\n",
    "    # cv.resize(img, [300,400])\n",
    "    row = img.shape[0]\n",
    "    skel = thin_demo(img)\n",
    "        \n",
    "    ############ parameters to be changed ############\n",
    "    degreeOfShifting = math.floor(row/256) * 1 # to be modified\n",
    "    patchResolution = int(row / 256 * 16) # to be modified\n",
    "    numOfDeform = 3 # to be modified\n",
    "    ############ parameters to be changed ############\n",
    "\n",
    "    for i in range(1, row-1):\n",
    "        for j in range(1, row-1):\n",
    "            if skel[i, j]:\n",
    "                isTconnected = isTconnection(skel[i-1:i+2, j-1:j+2])\n",
    "                if (isTconnected):\n",
    "                    skel[i, j] = False\n",
    "    \n",
    "    mapsOfPotins = {} # to store points\n",
    "    for i in range(1, numOfDeform+1): mapsOfPotins[i] = [[],[]]\n",
    "\n",
    "    for i in range(0, int(row/patchResolution)):\n",
    "        for j in range(0, int(row / patchResolution)):\n",
    "            # for each patch\n",
    "            patch = skel[i * patchResolution : (i+1) * patchResolution, j * patchResolution : (j+1) * patchResolution]\n",
    "            if patch.any() == True:\n",
    "                # print('patch.any() == True')\n",
    "                pointsInPatch = convertBinaryToPoints(patch)\n",
    "                # print(\"*******************************************\")\n",
    "                # print(pointsInPatch.shape)\n",
    "                # 4 control points from the original segment\n",
    "                if pointsInPatch.shape[1] > 4:\n",
    "                    controlPoints_of_segment = extractControlPoints(pointsInPatch, degree=3) \n",
    "                curve = bezier.Curve(controlPoints_of_segment, degree=3)\n",
    "                # 4 Beziered points from the original segment\n",
    "                list_deformedPoints = randomDeform(curve.nodes, numOfDeform, degreeOfShifting)\n",
    "                # [[[x0,x1,x2,x3],[y0,y1,y2,y3]],   [[x0,x1,x2,x3],[y0,y1,y2,y3]],   [[x0,x1,x2,x3][y0,y1,y2,y3]],   [[x0,x1,x2,x3][y0,y1,y2,y3]], ....]\n",
    "                ind = 1\n",
    "                for point in list_deformedPoints:\n",
    "                    x = point[0] + i * patchResolution\n",
    "                    y = point[1] + j * patchResolution\n",
    "                    axs = plt.gca()\n",
    "                    axs.axis(\"equal\")\n",
    "                    plt.figure(ind)\n",
    "                    # x_curve, y_curve = smoothing_base_bezier(x, y, k=0.3, closed=False)\n",
    "                    # plt.plot(y_curve, -x_curve, label='$k=0.3$')\n",
    "                    plt.plot(y, -x, 'ro')\n",
    "                    plt.savefig(pathname + name + '-{0:03}'.format(ind) + '.png')\n",
    "                    ind += 1\n",
    "\n",
    "    break"
   ]
  },
  {
   "cell_type": "code",
   "execution_count": 6,
   "metadata": {},
   "outputs": [
    {
     "name": "stdout",
     "output_type": "stream",
     "text": [
      "X Co-ordinate... [-1.   -0.96 -0.92 -0.88 -0.84 -0.8  -0.76 -0.72 -0.68 -0.64 -0.6  -0.56\n",
      " -0.52 -0.48 -0.44 -0.4  -0.36 -0.32 -0.28 -0.24 -0.2  -0.16 -0.12 -0.08\n",
      " -0.04  0.    0.04  0.08  0.12  0.16  0.2   0.24  0.28  0.32  0.36  0.4\n",
      "  0.44  0.48  0.52  0.56  0.6   0.64  0.68  0.72  0.76  0.8   0.84  0.88\n",
      "  0.92  0.96  1.  ]\n",
      "Y Co-ordinate... [ 0.22617085  0.14948405  1.25262509 -1.2456554   0.71258672 -0.1733249\n",
      " -1.97066524 -0.29682853  0.67015303  1.37911122  2.19388466  0.50817692\n",
      " -0.13957232  1.07226471  0.05931544  0.88904951  0.09630634  1.17915949\n",
      "  0.68749871 -0.63767982 -0.41291379 -1.24456159 -0.34203903  0.86758778\n",
      "  1.87027243  1.26298111  0.46657563  2.59209757  0.59764309  1.00516278\n",
      " -1.12211218 -0.29438165 -0.61721923  0.25334421  1.20107677  1.209886\n",
      "  0.62316278  0.3034465  -1.29953538 -0.05091617  0.7417447  -1.36774645\n",
      " -0.32077741 -1.29931622  0.85178461 -2.71375356 -1.74034953 -0.24466366\n",
      " -1.0617777   0.08333926 -0.57419471]\n"
     ]
    },
    {
     "data": {
      "image/png": "[encoded data removed]",
      "text/plain": [
       "<Figure size 432x288 with 1 Axes>"
      ]
     },
     "metadata": {
      "needs_background": "light"
     },
     "output_type": "display_data"
    },
    {
     "ename": "ValueError",
     "evalue": "x and y must have same first dimension, but have shapes (51,) and (4,)",
     "output_type": "error",
     "traceback": [
      "\u001b[0;31m---------------------------------------------------------------------------\u001b[0m",
      "\u001b[0;31mValueError\u001b[0m                                Traceback (most recent call last)",
      "\u001b[1;32m/Users/henghong/Desktop/TAMU/CS624 Sketch Recognition/624FinalProject/SketchRecognition624_FinalProject/stone_test.ipynb Cell 7\u001b[0m in \u001b[0;36m<cell line: 26>\u001b[0;34m()\u001b[0m\n\u001b[1;32m     <a href='vscode-notebook-cell:/Users/henghong/Desktop/TAMU/CS624%20Sketch%20Recognition/624FinalProject/SketchRecognition624_FinalProject/stone_test.ipynb#X13sZmlsZQ%3D%3D?line=21'>22</a>\u001b[0m \u001b[39m# To get the least-squares fit of a polynomial to data, use the polynomial.polyfit() in Python Numpy\u001b[39;00m\n\u001b[1;32m     <a href='vscode-notebook-cell:/Users/henghong/Desktop/TAMU/CS624%20Sketch%20Recognition/624FinalProject/SketchRecognition624_FinalProject/stone_test.ipynb#X13sZmlsZQ%3D%3D?line=22'>23</a>\u001b[0m \n\u001b[1;32m     <a href='vscode-notebook-cell:/Users/henghong/Desktop/TAMU/CS624%20Sketch%20Recognition/624FinalProject/SketchRecognition624_FinalProject/stone_test.ipynb#X13sZmlsZQ%3D%3D?line=23'>24</a>\u001b[0m \u001b[39m# The method returns the Polynomial coefficients ordered from low to high. If y was 2-D, the coefficients in column k of coef represent the polynomial fit to the data in y’s k-th column.\u001b[39;00m\n\u001b[1;32m     <a href='vscode-notebook-cell:/Users/henghong/Desktop/TAMU/CS624%20Sketch%20Recognition/624FinalProject/SketchRecognition624_FinalProject/stone_test.ipynb#X13sZmlsZQ%3D%3D?line=24'>25</a>\u001b[0m c, stats \u001b[39m=\u001b[39m P\u001b[39m.\u001b[39mpolyfit(x,y,\u001b[39m3\u001b[39m,full\u001b[39m=\u001b[39m\u001b[39mTrue\u001b[39;00m)\n\u001b[0;32m---> <a href='vscode-notebook-cell:/Users/henghong/Desktop/TAMU/CS624%20Sketch%20Recognition/624FinalProject/SketchRecognition624_FinalProject/stone_test.ipynb#X13sZmlsZQ%3D%3D?line=25'>26</a>\u001b[0m ax\u001b[39m.\u001b[39;49mplot(x, c, linewidth\u001b[39m=\u001b[39;49m\u001b[39m2.0\u001b[39;49m)\n\u001b[1;32m     <a href='vscode-notebook-cell:/Users/henghong/Desktop/TAMU/CS624%20Sketch%20Recognition/624FinalProject/SketchRecognition624_FinalProject/stone_test.ipynb#X13sZmlsZQ%3D%3D?line=27'>28</a>\u001b[0m plt\u001b[39m.\u001b[39mshow()\n\u001b[1;32m     <a href='vscode-notebook-cell:/Users/henghong/Desktop/TAMU/CS624%20Sketch%20Recognition/624FinalProject/SketchRecognition624_FinalProject/stone_test.ipynb#X13sZmlsZQ%3D%3D?line=29'>30</a>\u001b[0m \u001b[39mprint\u001b[39m(\u001b[39m\"\u001b[39m\u001b[39mResult...\u001b[39m\u001b[39m\"\u001b[39m,c)\n",
      "File \u001b[0;32m~/opt/anaconda3/lib/python3.9/site-packages/matplotlib/axes/_axes.py:1632\u001b[0m, in \u001b[0;36mAxes.plot\u001b[0;34m(self, scalex, scaley, data, *args, **kwargs)\u001b[0m\n\u001b[1;32m   1390\u001b[0m \u001b[39m\"\"\"\u001b[39;00m\n\u001b[1;32m   1391\u001b[0m \u001b[39mPlot y versus x as lines and/or markers.\u001b[39;00m\n\u001b[1;32m   1392\u001b[0m \n\u001b[0;32m   (...)\u001b[0m\n\u001b[1;32m   1629\u001b[0m \u001b[39m(``'green'``) or hex strings (``'#008000'``).\u001b[39;00m\n\u001b[1;32m   1630\u001b[0m \u001b[39m\"\"\"\u001b[39;00m\n\u001b[1;32m   1631\u001b[0m kwargs \u001b[39m=\u001b[39m cbook\u001b[39m.\u001b[39mnormalize_kwargs(kwargs, mlines\u001b[39m.\u001b[39mLine2D)\n\u001b[0;32m-> 1632\u001b[0m lines \u001b[39m=\u001b[39m [\u001b[39m*\u001b[39m\u001b[39mself\u001b[39m\u001b[39m.\u001b[39m_get_lines(\u001b[39m*\u001b[39margs, data\u001b[39m=\u001b[39mdata, \u001b[39m*\u001b[39m\u001b[39m*\u001b[39mkwargs)]\n\u001b[1;32m   1633\u001b[0m \u001b[39mfor\u001b[39;00m line \u001b[39min\u001b[39;00m lines:\n\u001b[1;32m   1634\u001b[0m     \u001b[39mself\u001b[39m\u001b[39m.\u001b[39madd_line(line)\n",
      "File \u001b[0;32m~/opt/anaconda3/lib/python3.9/site-packages/matplotlib/axes/_base.py:312\u001b[0m, in \u001b[0;36m_process_plot_var_args.__call__\u001b[0;34m(self, data, *args, **kwargs)\u001b[0m\n\u001b[1;32m    310\u001b[0m     this \u001b[39m+\u001b[39m\u001b[39m=\u001b[39m args[\u001b[39m0\u001b[39m],\n\u001b[1;32m    311\u001b[0m     args \u001b[39m=\u001b[39m args[\u001b[39m1\u001b[39m:]\n\u001b[0;32m--> 312\u001b[0m \u001b[39myield from\u001b[39;00m \u001b[39mself\u001b[39;49m\u001b[39m.\u001b[39;49m_plot_args(this, kwargs)\n",
      "File \u001b[0;32m~/opt/anaconda3/lib/python3.9/site-packages/matplotlib/axes/_base.py:498\u001b[0m, in \u001b[0;36m_process_plot_var_args._plot_args\u001b[0;34m(self, tup, kwargs, return_kwargs)\u001b[0m\n\u001b[1;32m    495\u001b[0m     \u001b[39mself\u001b[39m\u001b[39m.\u001b[39maxes\u001b[39m.\u001b[39myaxis\u001b[39m.\u001b[39mupdate_units(y)\n\u001b[1;32m    497\u001b[0m \u001b[39mif\u001b[39;00m x\u001b[39m.\u001b[39mshape[\u001b[39m0\u001b[39m] \u001b[39m!=\u001b[39m y\u001b[39m.\u001b[39mshape[\u001b[39m0\u001b[39m]:\n\u001b[0;32m--> 498\u001b[0m     \u001b[39mraise\u001b[39;00m \u001b[39mValueError\u001b[39;00m(\u001b[39mf\u001b[39m\u001b[39m\"\u001b[39m\u001b[39mx and y must have same first dimension, but \u001b[39m\u001b[39m\"\u001b[39m\n\u001b[1;32m    499\u001b[0m                      \u001b[39mf\u001b[39m\u001b[39m\"\u001b[39m\u001b[39mhave shapes \u001b[39m\u001b[39m{\u001b[39;00mx\u001b[39m.\u001b[39mshape\u001b[39m}\u001b[39;00m\u001b[39m and \u001b[39m\u001b[39m{\u001b[39;00my\u001b[39m.\u001b[39mshape\u001b[39m}\u001b[39;00m\u001b[39m\"\u001b[39m)\n\u001b[1;32m    500\u001b[0m \u001b[39mif\u001b[39;00m x\u001b[39m.\u001b[39mndim \u001b[39m>\u001b[39m \u001b[39m2\u001b[39m \u001b[39mor\u001b[39;00m y\u001b[39m.\u001b[39mndim \u001b[39m>\u001b[39m \u001b[39m2\u001b[39m:\n\u001b[1;32m    501\u001b[0m     \u001b[39mraise\u001b[39;00m \u001b[39mValueError\u001b[39;00m(\u001b[39mf\u001b[39m\u001b[39m\"\u001b[39m\u001b[39mx and y can be no greater than 2D, but have \u001b[39m\u001b[39m\"\u001b[39m\n\u001b[1;32m    502\u001b[0m                      \u001b[39mf\u001b[39m\u001b[39m\"\u001b[39m\u001b[39mshapes \u001b[39m\u001b[39m{\u001b[39;00mx\u001b[39m.\u001b[39mshape\u001b[39m}\u001b[39;00m\u001b[39m and \u001b[39m\u001b[39m{\u001b[39;00my\u001b[39m.\u001b[39mshape\u001b[39m}\u001b[39;00m\u001b[39m\"\u001b[39m)\n",
      "\u001b[0;31mValueError\u001b[0m: x and y must have same first dimension, but have shapes (51,) and (4,)"
     ]
    }
   ],
   "source": [
    "import numpy as np\n",
    "from numpy.polynomial import polynomial as P\n",
    "import matplotlib.pyplot as plt\n",
    "\n",
    "\n",
    "# The x-coordinate\n",
    "x = np.linspace(-1,1,51)\n",
    "\n",
    "# Display the x-coordinate\n",
    "print(\"X Co-ordinate...\",x)\n",
    "\n",
    "# The y-coordinate\n",
    "y = x**3 - x + np.random.randn(len(x))\n",
    "print(\"Y Co-ordinate...\",y)\n",
    "\n",
    "fig, ax = plt.subplots()\n",
    "\n",
    "ax.plot(x, y, linewidth=2.0)\n",
    "\n",
    "plt.show()\n",
    "\n",
    "# To get the least-squares fit of a polynomial to data, use the polynomial.polyfit() in Python Numpy\n",
    "\n",
    "# The method returns the Polynomial coefficients ordered from low to high. If y was 2-D, the coefficients in column k of coef represent the polynomial fit to the data in y’s k-th column.\n",
    "c, stats = P.polyfit(x,y,3,full=True)\n",
    "ax.plot(x, c, linewidth=2.0)\n",
    "\n",
    "plt.show()\n",
    "\n",
    "print(\"Result...\",c)\n",
    "print(\"Result...\",stats)\n"
   ]
  },
  {
   "cell_type": "code",
   "execution_count": 2,
   "metadata": {},
   "outputs": [
    {
     "name": "stdout",
     "output_type": "stream",
     "text": [
      "True\n"
     ]
    },
    {
     "ename": "TypeError",
     "evalue": "'tuple' object does not support item assignment",
     "output_type": "error",
     "traceback": [
      "\u001b[0;31m---------------------------------------------------------------------------\u001b[0m",
      "\u001b[0;31mTypeError\u001b[0m                                 Traceback (most recent call last)",
      "\u001b[1;32m/Users/henghong/Desktop/TAMU/CS624 Sketch Recognition/624FinalProject/SketchRecognition624_FinalProject/stone_test.ipynb Cell 7\u001b[0m in \u001b[0;36m<cell line: 10>\u001b[0;34m()\u001b[0m\n\u001b[1;32m      <a href='vscode-notebook-cell:/Users/henghong/Desktop/TAMU/CS624%20Sketch%20Recognition/624FinalProject/SketchRecognition624_FinalProject/stone_test.ipynb#W6sZmlsZQ%3D%3D?line=6'>7</a>\u001b[0m \u001b[39mprint\u001b[39m(a\u001b[39m.\u001b[39many())\n\u001b[1;32m      <a href='vscode-notebook-cell:/Users/henghong/Desktop/TAMU/CS624%20Sketch%20Recognition/624FinalProject/SketchRecognition624_FinalProject/stone_test.ipynb#W6sZmlsZQ%3D%3D?line=8'>9</a>\u001b[0m a \u001b[39m=\u001b[39m (\u001b[39m1\u001b[39m, \u001b[39m2\u001b[39m, \u001b[39m3\u001b[39m)\n\u001b[0;32m---> <a href='vscode-notebook-cell:/Users/henghong/Desktop/TAMU/CS624%20Sketch%20Recognition/624FinalProject/SketchRecognition624_FinalProject/stone_test.ipynb#W6sZmlsZQ%3D%3D?line=9'>10</a>\u001b[0m a[\u001b[39m0\u001b[39m] \u001b[39m=\u001b[39m \u001b[39m3\u001b[39m\n",
      "\u001b[0;31mTypeError\u001b[0m: 'tuple' object does not support item assignment"
     ]
    }
   ],
   "source": [
    "nodes = [[], []]\n",
    "x = [0, 1 ]\n",
    "y = \n",
    "\n",
    "import numpy as np\n",
    "a = [[False, True, True, True, True, True], [True, False, True, True, True, True], [True, True, False, True, True, True], \n",
    "[True, True, True, False, True, True], [True, True, True, True, False, True], [True, True, True, True, True, False]]\n",
    "a = np.array(a)\n",
    "sum(a[0][:])\n",
    "a[0:3, 0:3]\n",
    "print(a.any())\n",
    "\n",
    "a = (1, 2, 3)\n",
    "a[0] = 3"
   ]
  },
  {
   "cell_type": "code",
   "execution_count": 40,
   "metadata": {},
   "outputs": [
    {
     "data": {
      "text/plain": [
       "int"
      ]
     },
     "execution_count": 40,
     "metadata": {},
     "output_type": "execute_result"
    }
   ],
   "source": [
    "arr = np.array([1, 2, 3, 4])"
   ]
  },
  {
   "cell_type": "code",
   "execution_count": 1,
   "metadata": {},
   "outputs": [
    {
     "name": "stdout",
     "output_type": "stream",
     "text": [
      "(array([[ 0,  1,  0,  0,  0,  0],\n",
      "       [ 0,  1,  0,  1,  0,  0],\n",
      "       [ 0,  1,  0,  5,  0,  0],\n",
      "       [ 0,  1,  0,  0,  0,  1],\n",
      "       [ 0,  1,  0,  0,  0,  1],\n",
      "       [ 0, 10,  0,  1,  1, 13]]), 13)\n"
     ]
    }
   ],
   "source": [
    "import numpy as np\n",
    "from package import bwlabel\n",
    "b = [[False, True, False, False, False, False], [False, True, False, True, False, False], [False, True, False, True, False, False], \n",
    "[False, True, False, False, True, False], [False, True, False, False, True, False], [False, True, False, True, True, True]]\n",
    "b = np.array(b)\n",
    "c = bwlabel(b)\n",
    "print(c)"
   ]
  },
  {
   "cell_type": "code",
   "execution_count": 13,
   "metadata": {},
   "outputs": [],
   "source": [
    "from package import randomDeform\n",
    "import numpy as np\n",
    "node = [[1, 2, 3, 4], [5, 6, 7, 8]]\n",
    "node = np.array(node)\n",
    "# print(node[:, 1:3])\n",
    "list_deformedPoints = randomDeform(node, 3, 25)\n",
    "# print(list_deformedPoints)\n",
    "\n",
    "mapsOfPotins = {}\n",
    "# mapsOfPotins[1] = [[x,x,x,x,][y y y y y]]\n",
    "for i in range(1, 4): mapsOfPotins[i] = [[],[]]\n",
    "ind = 1\n",
    "for point in list_deformedPoints:\n",
    "    x = point[0]\n",
    "    y = point[1]\n",
    "    mapsOfPotins[ind][0].append(x)\n",
    "    mapsOfPotins[ind][1].append(y)\n",
    "    ind += 1\n"
   ]
  }
 ],
 "metadata": {
  "kernelspec": {
   "display_name": "Python 3.9.12 ('base')",
   "language": "python",
   "name": "python3"
  },
  "language_info": {
   "codemirror_mode": {
    "name": "ipython",
    "version": 3
   },
   "file_extension": ".py",
   "mimetype": "text/x-python",
   "name": "python",
   "nbconvert_exporter": "python",
   "pygments_lexer": "ipython3",
   "version": "3.9.12"
  },
  "orig_nbformat": 4,
  "vscode": {
   "interpreter": {
    "hash": "3c47b7e4abb862351f847362d5a4be1717906988c2d38db0a738787e53c2242c"
   }
  }
 },
 "nbformat": 4,
 "nbformat_minor": 2
}
